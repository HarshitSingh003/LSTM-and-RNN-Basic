{
  "nbformat": 4,
  "nbformat_minor": 0,
  "metadata": {
    "colab": {
      "provenance": []
    },
    "kernelspec": {
      "name": "python3",
      "display_name": "Python 3"
    },
    "language_info": {
      "name": "python"
    }
  },
  "cells": [
    {
      "cell_type": "code",
      "execution_count": 1,
      "metadata": {
        "colab": {
          "base_uri": "https://localhost:8080/"
        },
        "id": "fbmeOCG_QCZq",
        "outputId": "ef234695-3b63-464f-f89c-554b5e80be1c"
      },
      "outputs": [
        {
          "output_type": "stream",
          "name": "stdout",
          "text": [
            "Looking in indexes: https://pypi.org/simple, https://us-python.pkg.dev/colab-wheels/public/simple/\n",
            "Collecting tensorflow-gpu\n",
            "  Downloading tensorflow_gpu-2.10.0-cp37-cp37m-manylinux_2_17_x86_64.manylinux2014_x86_64.whl (578.0 MB)\n",
            "\u001b[K     |████████████████████████████████| 578.0 MB 15 kB/s \n",
            "\u001b[?25hRequirement already satisfied: google-pasta>=0.1.1 in /usr/local/lib/python3.7/dist-packages (from tensorflow-gpu) (0.2.0)\n",
            "Collecting tensorflow-estimator<2.11,>=2.10.0\n",
            "  Downloading tensorflow_estimator-2.10.0-py2.py3-none-any.whl (438 kB)\n",
            "\u001b[K     |████████████████████████████████| 438 kB 56.2 MB/s \n",
            "\u001b[?25hRequirement already satisfied: astunparse>=1.6.0 in /usr/local/lib/python3.7/dist-packages (from tensorflow-gpu) (1.6.3)\n",
            "Requirement already satisfied: keras-preprocessing>=1.1.1 in /usr/local/lib/python3.7/dist-packages (from tensorflow-gpu) (1.1.2)\n",
            "Requirement already satisfied: protobuf<3.20,>=3.9.2 in /usr/local/lib/python3.7/dist-packages (from tensorflow-gpu) (3.17.3)\n",
            "Requirement already satisfied: numpy>=1.20 in /usr/local/lib/python3.7/dist-packages (from tensorflow-gpu) (1.21.6)\n",
            "Requirement already satisfied: grpcio<2.0,>=1.24.3 in /usr/local/lib/python3.7/dist-packages (from tensorflow-gpu) (1.48.1)\n",
            "Requirement already satisfied: flatbuffers>=2.0 in /usr/local/lib/python3.7/dist-packages (from tensorflow-gpu) (2.0.7)\n",
            "Collecting gast<=0.4.0,>=0.2.1\n",
            "  Downloading gast-0.4.0-py3-none-any.whl (9.8 kB)\n",
            "Requirement already satisfied: typing-extensions>=3.6.6 in /usr/local/lib/python3.7/dist-packages (from tensorflow-gpu) (4.1.1)\n",
            "Requirement already satisfied: wrapt>=1.11.0 in /usr/local/lib/python3.7/dist-packages (from tensorflow-gpu) (1.14.1)\n",
            "Requirement already satisfied: opt-einsum>=2.3.2 in /usr/local/lib/python3.7/dist-packages (from tensorflow-gpu) (3.3.0)\n",
            "Requirement already satisfied: setuptools in /usr/local/lib/python3.7/dist-packages (from tensorflow-gpu) (57.4.0)\n",
            "Requirement already satisfied: libclang>=13.0.0 in /usr/local/lib/python3.7/dist-packages (from tensorflow-gpu) (14.0.6)\n",
            "Requirement already satisfied: termcolor>=1.1.0 in /usr/local/lib/python3.7/dist-packages (from tensorflow-gpu) (1.1.0)\n",
            "Requirement already satisfied: h5py>=2.9.0 in /usr/local/lib/python3.7/dist-packages (from tensorflow-gpu) (3.1.0)\n",
            "Collecting keras<2.11,>=2.10.0\n",
            "  Downloading keras-2.10.0-py2.py3-none-any.whl (1.7 MB)\n",
            "\u001b[K     |████████████████████████████████| 1.7 MB 42.3 MB/s \n",
            "\u001b[?25hRequirement already satisfied: absl-py>=1.0.0 in /usr/local/lib/python3.7/dist-packages (from tensorflow-gpu) (1.2.0)\n",
            "Requirement already satisfied: six>=1.12.0 in /usr/local/lib/python3.7/dist-packages (from tensorflow-gpu) (1.15.0)\n",
            "Requirement already satisfied: tensorflow-io-gcs-filesystem>=0.23.1 in /usr/local/lib/python3.7/dist-packages (from tensorflow-gpu) (0.26.0)\n",
            "Collecting tensorboard<2.11,>=2.10\n",
            "  Downloading tensorboard-2.10.0-py3-none-any.whl (5.9 MB)\n",
            "\u001b[K     |████████████████████████████████| 5.9 MB 49.3 MB/s \n",
            "\u001b[?25hRequirement already satisfied: packaging in /usr/local/lib/python3.7/dist-packages (from tensorflow-gpu) (21.3)\n",
            "Requirement already satisfied: wheel<1.0,>=0.23.0 in /usr/local/lib/python3.7/dist-packages (from astunparse>=1.6.0->tensorflow-gpu) (0.37.1)\n",
            "Requirement already satisfied: cached-property in /usr/local/lib/python3.7/dist-packages (from h5py>=2.9.0->tensorflow-gpu) (1.5.2)\n",
            "Requirement already satisfied: werkzeug>=1.0.1 in /usr/local/lib/python3.7/dist-packages (from tensorboard<2.11,>=2.10->tensorflow-gpu) (1.0.1)\n",
            "Requirement already satisfied: tensorboard-data-server<0.7.0,>=0.6.0 in /usr/local/lib/python3.7/dist-packages (from tensorboard<2.11,>=2.10->tensorflow-gpu) (0.6.1)\n",
            "Requirement already satisfied: markdown>=2.6.8 in /usr/local/lib/python3.7/dist-packages (from tensorboard<2.11,>=2.10->tensorflow-gpu) (3.4.1)\n",
            "Requirement already satisfied: google-auth-oauthlib<0.5,>=0.4.1 in /usr/local/lib/python3.7/dist-packages (from tensorboard<2.11,>=2.10->tensorflow-gpu) (0.4.6)\n",
            "Requirement already satisfied: tensorboard-plugin-wit>=1.6.0 in /usr/local/lib/python3.7/dist-packages (from tensorboard<2.11,>=2.10->tensorflow-gpu) (1.8.1)\n",
            "Requirement already satisfied: google-auth<3,>=1.6.3 in /usr/local/lib/python3.7/dist-packages (from tensorboard<2.11,>=2.10->tensorflow-gpu) (1.35.0)\n",
            "Requirement already satisfied: requests<3,>=2.21.0 in /usr/local/lib/python3.7/dist-packages (from tensorboard<2.11,>=2.10->tensorflow-gpu) (2.23.0)\n",
            "Requirement already satisfied: rsa<5,>=3.1.4 in /usr/local/lib/python3.7/dist-packages (from google-auth<3,>=1.6.3->tensorboard<2.11,>=2.10->tensorflow-gpu) (4.9)\n",
            "Requirement already satisfied: pyasn1-modules>=0.2.1 in /usr/local/lib/python3.7/dist-packages (from google-auth<3,>=1.6.3->tensorboard<2.11,>=2.10->tensorflow-gpu) (0.2.8)\n",
            "Requirement already satisfied: cachetools<5.0,>=2.0.0 in /usr/local/lib/python3.7/dist-packages (from google-auth<3,>=1.6.3->tensorboard<2.11,>=2.10->tensorflow-gpu) (4.2.4)\n",
            "Requirement already satisfied: requests-oauthlib>=0.7.0 in /usr/local/lib/python3.7/dist-packages (from google-auth-oauthlib<0.5,>=0.4.1->tensorboard<2.11,>=2.10->tensorflow-gpu) (1.3.1)\n",
            "Requirement already satisfied: importlib-metadata>=4.4 in /usr/local/lib/python3.7/dist-packages (from markdown>=2.6.8->tensorboard<2.11,>=2.10->tensorflow-gpu) (4.12.0)\n",
            "Requirement already satisfied: zipp>=0.5 in /usr/local/lib/python3.7/dist-packages (from importlib-metadata>=4.4->markdown>=2.6.8->tensorboard<2.11,>=2.10->tensorflow-gpu) (3.8.1)\n",
            "Requirement already satisfied: pyasn1<0.5.0,>=0.4.6 in /usr/local/lib/python3.7/dist-packages (from pyasn1-modules>=0.2.1->google-auth<3,>=1.6.3->tensorboard<2.11,>=2.10->tensorflow-gpu) (0.4.8)\n",
            "Requirement already satisfied: certifi>=2017.4.17 in /usr/local/lib/python3.7/dist-packages (from requests<3,>=2.21.0->tensorboard<2.11,>=2.10->tensorflow-gpu) (2022.6.15)\n",
            "Requirement already satisfied: chardet<4,>=3.0.2 in /usr/local/lib/python3.7/dist-packages (from requests<3,>=2.21.0->tensorboard<2.11,>=2.10->tensorflow-gpu) (3.0.4)\n",
            "Requirement already satisfied: idna<3,>=2.5 in /usr/local/lib/python3.7/dist-packages (from requests<3,>=2.21.0->tensorboard<2.11,>=2.10->tensorflow-gpu) (2.10)\n",
            "Requirement already satisfied: urllib3!=1.25.0,!=1.25.1,<1.26,>=1.21.1 in /usr/local/lib/python3.7/dist-packages (from requests<3,>=2.21.0->tensorboard<2.11,>=2.10->tensorflow-gpu) (1.24.3)\n",
            "Requirement already satisfied: oauthlib>=3.0.0 in /usr/local/lib/python3.7/dist-packages (from requests-oauthlib>=0.7.0->google-auth-oauthlib<0.5,>=0.4.1->tensorboard<2.11,>=2.10->tensorflow-gpu) (3.2.0)\n",
            "Requirement already satisfied: pyparsing!=3.0.5,>=2.0.2 in /usr/local/lib/python3.7/dist-packages (from packaging->tensorflow-gpu) (3.0.9)\n",
            "Installing collected packages: tensorflow-estimator, tensorboard, keras, gast, tensorflow-gpu\n",
            "  Attempting uninstall: tensorflow-estimator\n",
            "    Found existing installation: tensorflow-estimator 2.8.0\n",
            "    Uninstalling tensorflow-estimator-2.8.0:\n",
            "      Successfully uninstalled tensorflow-estimator-2.8.0\n",
            "  Attempting uninstall: tensorboard\n",
            "    Found existing installation: tensorboard 2.8.0\n",
            "    Uninstalling tensorboard-2.8.0:\n",
            "      Successfully uninstalled tensorboard-2.8.0\n",
            "  Attempting uninstall: keras\n",
            "    Found existing installation: keras 2.8.0\n",
            "    Uninstalling keras-2.8.0:\n",
            "      Successfully uninstalled keras-2.8.0\n",
            "  Attempting uninstall: gast\n",
            "    Found existing installation: gast 0.5.3\n",
            "    Uninstalling gast-0.5.3:\n",
            "      Successfully uninstalled gast-0.5.3\n",
            "\u001b[31mERROR: pip's dependency resolver does not currently take into account all the packages that are installed. This behaviour is the source of the following dependency conflicts.\n",
            "tensorflow 2.8.2+zzzcolab20220719082949 requires keras<2.9,>=2.8.0rc0, but you have keras 2.10.0 which is incompatible.\n",
            "tensorflow 2.8.2+zzzcolab20220719082949 requires tensorboard<2.9,>=2.8, but you have tensorboard 2.10.0 which is incompatible.\n",
            "tensorflow 2.8.2+zzzcolab20220719082949 requires tensorflow-estimator<2.9,>=2.8, but you have tensorflow-estimator 2.10.0 which is incompatible.\u001b[0m\n",
            "Successfully installed gast-0.4.0 keras-2.10.0 tensorboard-2.10.0 tensorflow-estimator-2.10.0 tensorflow-gpu-2.10.0\n"
          ]
        }
      ],
      "source": [
        "!pip install tensorflow-gpu"
      ]
    },
    {
      "cell_type": "code",
      "source": [
        "import tensorflow as tf\n",
        "print(tf.__version__)"
      ],
      "metadata": {
        "colab": {
          "base_uri": "https://localhost:8080/"
        },
        "id": "MjSOUK1UQKrI",
        "outputId": "58baac72-013b-4fe5-a75d-2f822f1c9f3b"
      },
      "execution_count": 2,
      "outputs": [
        {
          "output_type": "stream",
          "name": "stdout",
          "text": [
            "2.10.0\n"
          ]
        }
      ]
    },
    {
      "cell_type": "code",
      "source": [
        "from tensorflow.keras.preprocessing.text import one_hot"
      ],
      "metadata": {
        "id": "fW1PrV0XQhIO"
      },
      "execution_count": 3,
      "outputs": []
    },
    {
      "cell_type": "code",
      "source": [
        "sent=[  'the glass of milk',\n",
        "     'the glass of juice',\n",
        "     'the cup of tea',\n",
        "    'I am a good boy',\n",
        "     'I am a good developer',\n",
        "     'understand the meaning of words',\n",
        "     'your videos are good']"
      ],
      "metadata": {
        "id": "vZK35mU_Qprv"
      },
      "execution_count": 4,
      "outputs": []
    },
    {
      "cell_type": "code",
      "source": [
        "voc_size=500"
      ],
      "metadata": {
        "id": "KOXST8JtQtV_"
      },
      "execution_count": 5,
      "outputs": []
    },
    {
      "cell_type": "markdown",
      "source": [
        "One hot Represenatation\n"
      ],
      "metadata": {
        "id": "Cs3-cW6ZQ5Yh"
      }
    },
    {
      "cell_type": "code",
      "source": [
        "onehot=[one_hot(words,voc_size)for words in sent]\n",
        "print(onehot)"
      ],
      "metadata": {
        "colab": {
          "base_uri": "https://localhost:8080/"
        },
        "id": "tiNvnRZSQxxW",
        "outputId": "dad8bc5c-5f28-4386-a2a1-8b98455c0474"
      },
      "execution_count": 6,
      "outputs": [
        {
          "output_type": "stream",
          "name": "stdout",
          "text": [
            "[[237, 99, 126, 239], [237, 99, 126, 22], [237, 205, 126, 102], [285, 489, 62, 21, 325], [285, 489, 62, 21, 496], [132, 237, 15, 126, 409], [272, 75, 152, 21]]\n"
          ]
        }
      ]
    },
    {
      "cell_type": "code",
      "source": [
        "from tensorflow.keras.layers import Embedding\n",
        "from tensorflow.keras.preprocessing.sequence import pad_sequences\n",
        "from tensorflow.keras.models import Sequential"
      ],
      "metadata": {
        "id": "_eXXLdtQRLk5"
      },
      "execution_count": 7,
      "outputs": []
    },
    {
      "cell_type": "code",
      "source": [
        "import numpy as np"
      ],
      "metadata": {
        "id": "g_JOyDMuT_2o"
      },
      "execution_count": 8,
      "outputs": []
    },
    {
      "cell_type": "code",
      "source": [
        "sent_length=8\n",
        "embedded_docs=pad_sequences(onehot,padding='pre',maxlen=sent_length)\n",
        "print(embedded_docs)"
      ],
      "metadata": {
        "colab": {
          "base_uri": "https://localhost:8080/"
        },
        "id": "Fp4ogrhcUBWn",
        "outputId": "feecc74f-5920-4285-e2cf-8132a5d13af2"
      },
      "execution_count": 10,
      "outputs": [
        {
          "output_type": "stream",
          "name": "stdout",
          "text": [
            "[[  0   0   0   0 237  99 126 239]\n",
            " [  0   0   0   0 237  99 126  22]\n",
            " [  0   0   0   0 237 205 126 102]\n",
            " [  0   0   0 285 489  62  21 325]\n",
            " [  0   0   0 285 489  62  21 496]\n",
            " [  0   0   0 132 237  15 126 409]\n",
            " [  0   0   0   0 272  75 152  21]]\n"
          ]
        }
      ]
    },
    {
      "cell_type": "code",
      "source": [
        "dim=10"
      ],
      "metadata": {
        "id": "AM8MgaphUSu4"
      },
      "execution_count": 11,
      "outputs": []
    },
    {
      "cell_type": "code",
      "source": [
        "model=Sequential()\n",
        "model.add(Embedding(voc_size,10,input_length=sent_length))\n",
        "model.compile('adam','mse')"
      ],
      "metadata": {
        "id": "5XzSScbwZCmD"
      },
      "execution_count": 12,
      "outputs": []
    },
    {
      "cell_type": "code",
      "source": [
        "model.summary()"
      ],
      "metadata": {
        "colab": {
          "base_uri": "https://localhost:8080/"
        },
        "id": "B2cLkR1YZF69",
        "outputId": "5176c345-50d5-41c1-d24a-82433f07c6af"
      },
      "execution_count": 13,
      "outputs": [
        {
          "output_type": "stream",
          "name": "stdout",
          "text": [
            "Model: \"sequential\"\n",
            "_________________________________________________________________\n",
            " Layer (type)                Output Shape              Param #   \n",
            "=================================================================\n",
            " embedding (Embedding)       (None, 8, 10)             5000      \n",
            "                                                                 \n",
            "=================================================================\n",
            "Total params: 5,000\n",
            "Trainable params: 5,000\n",
            "Non-trainable params: 0\n",
            "_________________________________________________________________\n"
          ]
        }
      ]
    },
    {
      "cell_type": "code",
      "source": [
        "embedded_docs[0]"
      ],
      "metadata": {
        "colab": {
          "base_uri": "https://localhost:8080/"
        },
        "id": "hfLveVb4ZIBw",
        "outputId": "cc582022-ad41-455b-9df0-008ba5b091d7"
      },
      "execution_count": 14,
      "outputs": [
        {
          "output_type": "execute_result",
          "data": {
            "text/plain": [
              "array([  0,   0,   0,   0, 237,  99, 126, 239], dtype=int32)"
            ]
          },
          "metadata": {},
          "execution_count": 14
        }
      ]
    },
    {
      "cell_type": "code",
      "source": [
        "model.predict(embedded_docs[0])"
      ],
      "metadata": {
        "colab": {
          "base_uri": "https://localhost:8080/"
        },
        "id": "IkF9G_6jZd4C",
        "outputId": "d2f0c2dd-386b-4a67-9a36-53702fe801ad"
      },
      "execution_count": 15,
      "outputs": [
        {
          "output_type": "stream",
          "name": "stderr",
          "text": [
            "WARNING:tensorflow:Model was constructed with shape (None, 8) for input KerasTensor(type_spec=TensorSpec(shape=(None, 8), dtype=tf.float32, name='embedding_input'), name='embedding_input', description=\"created by layer 'embedding_input'\"), but it was called on an input with incompatible shape (None,).\n"
          ]
        },
        {
          "output_type": "stream",
          "name": "stdout",
          "text": [
            "1/1 [==============================] - 0s 116ms/step\n"
          ]
        },
        {
          "output_type": "execute_result",
          "data": {
            "text/plain": [
              "array([[-0.01843141, -0.04354911, -0.0014561 ,  0.0480247 ,  0.04784751,\n",
              "         0.03774926,  0.04833465, -0.02396311, -0.02622368, -0.01278979],\n",
              "       [-0.01843141, -0.04354911, -0.0014561 ,  0.0480247 ,  0.04784751,\n",
              "         0.03774926,  0.04833465, -0.02396311, -0.02622368, -0.01278979],\n",
              "       [-0.01843141, -0.04354911, -0.0014561 ,  0.0480247 ,  0.04784751,\n",
              "         0.03774926,  0.04833465, -0.02396311, -0.02622368, -0.01278979],\n",
              "       [-0.01843141, -0.04354911, -0.0014561 ,  0.0480247 ,  0.04784751,\n",
              "         0.03774926,  0.04833465, -0.02396311, -0.02622368, -0.01278979],\n",
              "       [-0.02418596, -0.0063375 ,  0.03923554, -0.00437652,  0.03230209,\n",
              "        -0.00320896,  0.00096127,  0.04017849,  0.03698429, -0.01500915],\n",
              "       [ 0.02660409, -0.03526404,  0.01889889, -0.04547782,  0.03035836,\n",
              "         0.0081946 ,  0.02093536, -0.03937749,  0.00472064, -0.01346058],\n",
              "       [ 0.04362888,  0.01906564, -0.04043093,  0.03042633,  0.04832533,\n",
              "         0.03165894, -0.04936358,  0.01085032,  0.02319198, -0.00906939],\n",
              "       [-0.03299469,  0.03485786,  0.02586267,  0.01504106, -0.046162  ,\n",
              "        -0.04788512, -0.01985935, -0.03590603,  0.04966131, -0.02334319]],\n",
              "      dtype=float32)"
            ]
          },
          "metadata": {},
          "execution_count": 15
        }
      ]
    },
    {
      "cell_type": "code",
      "source": [
        "model.predict(embedded_docs)"
      ],
      "metadata": {
        "colab": {
          "base_uri": "https://localhost:8080/"
        },
        "id": "pj0BhYOVZyPB",
        "outputId": "bbc2b773-128e-457a-e449-563a637e2aaf"
      },
      "execution_count": 16,
      "outputs": [
        {
          "output_type": "stream",
          "name": "stdout",
          "text": [
            "1/1 [==============================] - 0s 41ms/step\n"
          ]
        },
        {
          "output_type": "execute_result",
          "data": {
            "text/plain": [
              "array([[[-1.84314139e-02, -4.35491093e-02, -1.45610422e-03,\n",
              "          4.80247028e-02,  4.78475131e-02,  3.77492644e-02,\n",
              "          4.83346470e-02, -2.39631068e-02, -2.62236837e-02,\n",
              "         -1.27897859e-02],\n",
              "        [-1.84314139e-02, -4.35491093e-02, -1.45610422e-03,\n",
              "          4.80247028e-02,  4.78475131e-02,  3.77492644e-02,\n",
              "          4.83346470e-02, -2.39631068e-02, -2.62236837e-02,\n",
              "         -1.27897859e-02],\n",
              "        [-1.84314139e-02, -4.35491093e-02, -1.45610422e-03,\n",
              "          4.80247028e-02,  4.78475131e-02,  3.77492644e-02,\n",
              "          4.83346470e-02, -2.39631068e-02, -2.62236837e-02,\n",
              "         -1.27897859e-02],\n",
              "        [-1.84314139e-02, -4.35491093e-02, -1.45610422e-03,\n",
              "          4.80247028e-02,  4.78475131e-02,  3.77492644e-02,\n",
              "          4.83346470e-02, -2.39631068e-02, -2.62236837e-02,\n",
              "         -1.27897859e-02],\n",
              "        [-2.41859555e-02, -6.33750111e-03,  3.92355435e-02,\n",
              "         -4.37651947e-03,  3.23020928e-02, -3.20895761e-03,\n",
              "          9.61266458e-04,  4.01784889e-02,  3.69842909e-02,\n",
              "         -1.50091536e-02],\n",
              "        [ 2.66040899e-02, -3.52640375e-02,  1.88988931e-02,\n",
              "         -4.54778187e-02,  3.03583629e-02,  8.19460303e-03,\n",
              "          2.09353603e-02, -3.93774882e-02,  4.72063944e-03,\n",
              "         -1.34605765e-02],\n",
              "        [ 4.36288752e-02,  1.90656446e-02, -4.04309258e-02,\n",
              "          3.04263271e-02,  4.83253263e-02,  3.16589363e-02,\n",
              "         -4.93635796e-02,  1.08503215e-02,  2.31919773e-02,\n",
              "         -9.06939432e-03],\n",
              "        [-3.29946876e-02,  3.48578580e-02,  2.58626677e-02,\n",
              "          1.50410570e-02, -4.61619981e-02, -4.78851199e-02,\n",
              "         -1.98593494e-02, -3.59060280e-02,  4.96613123e-02,\n",
              "         -2.33431943e-02]],\n",
              "\n",
              "       [[-1.84314139e-02, -4.35491093e-02, -1.45610422e-03,\n",
              "          4.80247028e-02,  4.78475131e-02,  3.77492644e-02,\n",
              "          4.83346470e-02, -2.39631068e-02, -2.62236837e-02,\n",
              "         -1.27897859e-02],\n",
              "        [-1.84314139e-02, -4.35491093e-02, -1.45610422e-03,\n",
              "          4.80247028e-02,  4.78475131e-02,  3.77492644e-02,\n",
              "          4.83346470e-02, -2.39631068e-02, -2.62236837e-02,\n",
              "         -1.27897859e-02],\n",
              "        [-1.84314139e-02, -4.35491093e-02, -1.45610422e-03,\n",
              "          4.80247028e-02,  4.78475131e-02,  3.77492644e-02,\n",
              "          4.83346470e-02, -2.39631068e-02, -2.62236837e-02,\n",
              "         -1.27897859e-02],\n",
              "        [-1.84314139e-02, -4.35491093e-02, -1.45610422e-03,\n",
              "          4.80247028e-02,  4.78475131e-02,  3.77492644e-02,\n",
              "          4.83346470e-02, -2.39631068e-02, -2.62236837e-02,\n",
              "         -1.27897859e-02],\n",
              "        [-2.41859555e-02, -6.33750111e-03,  3.92355435e-02,\n",
              "         -4.37651947e-03,  3.23020928e-02, -3.20895761e-03,\n",
              "          9.61266458e-04,  4.01784889e-02,  3.69842909e-02,\n",
              "         -1.50091536e-02],\n",
              "        [ 2.66040899e-02, -3.52640375e-02,  1.88988931e-02,\n",
              "         -4.54778187e-02,  3.03583629e-02,  8.19460303e-03,\n",
              "          2.09353603e-02, -3.93774882e-02,  4.72063944e-03,\n",
              "         -1.34605765e-02],\n",
              "        [ 4.36288752e-02,  1.90656446e-02, -4.04309258e-02,\n",
              "          3.04263271e-02,  4.83253263e-02,  3.16589363e-02,\n",
              "         -4.93635796e-02,  1.08503215e-02,  2.31919773e-02,\n",
              "         -9.06939432e-03],\n",
              "        [-4.04962786e-02,  2.93919928e-02, -2.04397365e-03,\n",
              "         -4.45528626e-02,  1.03492737e-02,  3.90004180e-02,\n",
              "         -2.77889725e-02, -3.59602943e-02, -1.11027807e-03,\n",
              "          3.45504992e-02]],\n",
              "\n",
              "       [[-1.84314139e-02, -4.35491093e-02, -1.45610422e-03,\n",
              "          4.80247028e-02,  4.78475131e-02,  3.77492644e-02,\n",
              "          4.83346470e-02, -2.39631068e-02, -2.62236837e-02,\n",
              "         -1.27897859e-02],\n",
              "        [-1.84314139e-02, -4.35491093e-02, -1.45610422e-03,\n",
              "          4.80247028e-02,  4.78475131e-02,  3.77492644e-02,\n",
              "          4.83346470e-02, -2.39631068e-02, -2.62236837e-02,\n",
              "         -1.27897859e-02],\n",
              "        [-1.84314139e-02, -4.35491093e-02, -1.45610422e-03,\n",
              "          4.80247028e-02,  4.78475131e-02,  3.77492644e-02,\n",
              "          4.83346470e-02, -2.39631068e-02, -2.62236837e-02,\n",
              "         -1.27897859e-02],\n",
              "        [-1.84314139e-02, -4.35491093e-02, -1.45610422e-03,\n",
              "          4.80247028e-02,  4.78475131e-02,  3.77492644e-02,\n",
              "          4.83346470e-02, -2.39631068e-02, -2.62236837e-02,\n",
              "         -1.27897859e-02],\n",
              "        [-2.41859555e-02, -6.33750111e-03,  3.92355435e-02,\n",
              "         -4.37651947e-03,  3.23020928e-02, -3.20895761e-03,\n",
              "          9.61266458e-04,  4.01784889e-02,  3.69842909e-02,\n",
              "         -1.50091536e-02],\n",
              "        [-3.80265713e-02,  4.42523994e-02, -7.34156370e-03,\n",
              "         -1.28722191e-02,  4.95645739e-02, -8.04624707e-03,\n",
              "          1.10240467e-02, -1.29353888e-02,  4.15677093e-02,\n",
              "         -4.10462543e-03],\n",
              "        [ 4.36288752e-02,  1.90656446e-02, -4.04309258e-02,\n",
              "          3.04263271e-02,  4.83253263e-02,  3.16589363e-02,\n",
              "         -4.93635796e-02,  1.08503215e-02,  2.31919773e-02,\n",
              "         -9.06939432e-03],\n",
              "        [ 4.68355529e-02, -3.53166834e-02, -3.77921350e-02,\n",
              "         -3.43460962e-03, -2.35744603e-02, -2.27164514e-02,\n",
              "         -9.16378573e-03, -4.36316244e-02, -4.39001210e-02,\n",
              "          2.78777741e-02]],\n",
              "\n",
              "       [[-1.84314139e-02, -4.35491093e-02, -1.45610422e-03,\n",
              "          4.80247028e-02,  4.78475131e-02,  3.77492644e-02,\n",
              "          4.83346470e-02, -2.39631068e-02, -2.62236837e-02,\n",
              "         -1.27897859e-02],\n",
              "        [-1.84314139e-02, -4.35491093e-02, -1.45610422e-03,\n",
              "          4.80247028e-02,  4.78475131e-02,  3.77492644e-02,\n",
              "          4.83346470e-02, -2.39631068e-02, -2.62236837e-02,\n",
              "         -1.27897859e-02],\n",
              "        [-1.84314139e-02, -4.35491093e-02, -1.45610422e-03,\n",
              "          4.80247028e-02,  4.78475131e-02,  3.77492644e-02,\n",
              "          4.83346470e-02, -2.39631068e-02, -2.62236837e-02,\n",
              "         -1.27897859e-02],\n",
              "        [-4.34584543e-03, -3.58555801e-02,  3.78767587e-02,\n",
              "         -2.36876737e-02,  2.44133808e-02,  2.94495113e-02,\n",
              "         -4.98481281e-02,  4.04841788e-02, -1.17023960e-02,\n",
              "         -1.37686729e-05],\n",
              "        [ 3.97911705e-02, -6.59022480e-03, -3.38199884e-02,\n",
              "          3.42079662e-02,  4.33564298e-02,  1.89991035e-02,\n",
              "         -4.32940982e-02, -3.67452390e-02,  2.24819295e-02,\n",
              "          3.95265967e-03],\n",
              "        [-6.43859059e-03,  4.40811254e-02, -3.12848017e-03,\n",
              "          4.21547554e-02,  4.80362214e-02, -3.07067167e-02,\n",
              "         -6.10873848e-03,  2.19155662e-02,  4.36789505e-02,\n",
              "          4.47645076e-02],\n",
              "        [ 3.06486227e-02, -1.40705332e-02, -6.28740713e-03,\n",
              "          7.43588060e-03, -2.76459344e-02, -2.98330542e-02,\n",
              "          4.04719152e-02,  2.99831741e-02,  4.84191887e-02,\n",
              "          9.36107710e-03],\n",
              "        [ 4.63535897e-02,  3.21801193e-02,  3.29267271e-02,\n",
              "          1.61169432e-02,  4.16700579e-02,  7.24504143e-03,\n",
              "          1.17240772e-02, -4.82497476e-02, -4.49141860e-02,\n",
              "         -2.46508010e-02]],\n",
              "\n",
              "       [[-1.84314139e-02, -4.35491093e-02, -1.45610422e-03,\n",
              "          4.80247028e-02,  4.78475131e-02,  3.77492644e-02,\n",
              "          4.83346470e-02, -2.39631068e-02, -2.62236837e-02,\n",
              "         -1.27897859e-02],\n",
              "        [-1.84314139e-02, -4.35491093e-02, -1.45610422e-03,\n",
              "          4.80247028e-02,  4.78475131e-02,  3.77492644e-02,\n",
              "          4.83346470e-02, -2.39631068e-02, -2.62236837e-02,\n",
              "         -1.27897859e-02],\n",
              "        [-1.84314139e-02, -4.35491093e-02, -1.45610422e-03,\n",
              "          4.80247028e-02,  4.78475131e-02,  3.77492644e-02,\n",
              "          4.83346470e-02, -2.39631068e-02, -2.62236837e-02,\n",
              "         -1.27897859e-02],\n",
              "        [-4.34584543e-03, -3.58555801e-02,  3.78767587e-02,\n",
              "         -2.36876737e-02,  2.44133808e-02,  2.94495113e-02,\n",
              "         -4.98481281e-02,  4.04841788e-02, -1.17023960e-02,\n",
              "         -1.37686729e-05],\n",
              "        [ 3.97911705e-02, -6.59022480e-03, -3.38199884e-02,\n",
              "          3.42079662e-02,  4.33564298e-02,  1.89991035e-02,\n",
              "         -4.32940982e-02, -3.67452390e-02,  2.24819295e-02,\n",
              "          3.95265967e-03],\n",
              "        [-6.43859059e-03,  4.40811254e-02, -3.12848017e-03,\n",
              "          4.21547554e-02,  4.80362214e-02, -3.07067167e-02,\n",
              "         -6.10873848e-03,  2.19155662e-02,  4.36789505e-02,\n",
              "          4.47645076e-02],\n",
              "        [ 3.06486227e-02, -1.40705332e-02, -6.28740713e-03,\n",
              "          7.43588060e-03, -2.76459344e-02, -2.98330542e-02,\n",
              "          4.04719152e-02,  2.99831741e-02,  4.84191887e-02,\n",
              "          9.36107710e-03],\n",
              "        [-7.25520775e-03, -4.90715876e-02,  1.04498491e-02,\n",
              "         -1.37524828e-02,  1.12522840e-02, -4.43352573e-02,\n",
              "          3.10094096e-02,  4.00116108e-02, -1.75252445e-02,\n",
              "         -2.35477090e-02]],\n",
              "\n",
              "       [[-1.84314139e-02, -4.35491093e-02, -1.45610422e-03,\n",
              "          4.80247028e-02,  4.78475131e-02,  3.77492644e-02,\n",
              "          4.83346470e-02, -2.39631068e-02, -2.62236837e-02,\n",
              "         -1.27897859e-02],\n",
              "        [-1.84314139e-02, -4.35491093e-02, -1.45610422e-03,\n",
              "          4.80247028e-02,  4.78475131e-02,  3.77492644e-02,\n",
              "          4.83346470e-02, -2.39631068e-02, -2.62236837e-02,\n",
              "         -1.27897859e-02],\n",
              "        [-1.84314139e-02, -4.35491093e-02, -1.45610422e-03,\n",
              "          4.80247028e-02,  4.78475131e-02,  3.77492644e-02,\n",
              "          4.83346470e-02, -2.39631068e-02, -2.62236837e-02,\n",
              "         -1.27897859e-02],\n",
              "        [ 2.13153251e-02,  4.70910929e-02, -1.88881513e-02,\n",
              "          1.79867633e-02, -1.92837473e-02, -4.39235233e-02,\n",
              "          2.92321332e-02, -1.21698603e-02,  3.25351246e-02,\n",
              "         -4.31400798e-02],\n",
              "        [-2.41859555e-02, -6.33750111e-03,  3.92355435e-02,\n",
              "         -4.37651947e-03,  3.23020928e-02, -3.20895761e-03,\n",
              "          9.61266458e-04,  4.01784889e-02,  3.69842909e-02,\n",
              "         -1.50091536e-02],\n",
              "        [-2.46425513e-02, -5.87216765e-03, -3.15321460e-02,\n",
              "         -4.67139371e-02, -8.22760910e-03, -1.49487853e-02,\n",
              "          8.05196911e-03, -3.56841907e-02,  1.94944441e-04,\n",
              "         -2.51599904e-02],\n",
              "        [ 4.36288752e-02,  1.90656446e-02, -4.04309258e-02,\n",
              "          3.04263271e-02,  4.83253263e-02,  3.16589363e-02,\n",
              "         -4.93635796e-02,  1.08503215e-02,  2.31919773e-02,\n",
              "         -9.06939432e-03],\n",
              "        [ 1.75142549e-02,  2.39765383e-02,  4.25381400e-02,\n",
              "         -1.52369626e-02,  4.94323634e-02, -2.34792586e-02,\n",
              "         -3.14211473e-02, -1.00325570e-02, -2.98349932e-03,\n",
              "          4.80232574e-02]],\n",
              "\n",
              "       [[-1.84314139e-02, -4.35491093e-02, -1.45610422e-03,\n",
              "          4.80247028e-02,  4.78475131e-02,  3.77492644e-02,\n",
              "          4.83346470e-02, -2.39631068e-02, -2.62236837e-02,\n",
              "         -1.27897859e-02],\n",
              "        [-1.84314139e-02, -4.35491093e-02, -1.45610422e-03,\n",
              "          4.80247028e-02,  4.78475131e-02,  3.77492644e-02,\n",
              "          4.83346470e-02, -2.39631068e-02, -2.62236837e-02,\n",
              "         -1.27897859e-02],\n",
              "        [-1.84314139e-02, -4.35491093e-02, -1.45610422e-03,\n",
              "          4.80247028e-02,  4.78475131e-02,  3.77492644e-02,\n",
              "          4.83346470e-02, -2.39631068e-02, -2.62236837e-02,\n",
              "         -1.27897859e-02],\n",
              "        [-1.84314139e-02, -4.35491093e-02, -1.45610422e-03,\n",
              "          4.80247028e-02,  4.78475131e-02,  3.77492644e-02,\n",
              "          4.83346470e-02, -2.39631068e-02, -2.62236837e-02,\n",
              "         -1.27897859e-02],\n",
              "        [-2.01041233e-02,  2.40255482e-02, -9.40674543e-03,\n",
              "         -4.29000519e-02,  2.20502354e-02,  2.63528563e-02,\n",
              "          2.33165920e-05, -3.21295634e-02,  2.72035599e-04,\n",
              "         -7.37557560e-03],\n",
              "        [-1.56307928e-02, -3.10557131e-02,  1.14083290e-02,\n",
              "         -4.37014475e-02, -3.17741632e-02, -4.95995060e-02,\n",
              "          4.72555868e-02,  4.06019762e-03,  5.65915182e-03,\n",
              "         -1.53732300e-03],\n",
              "        [-4.03141975e-02,  1.19361877e-02, -1.99545156e-02,\n",
              "         -3.40769887e-02, -2.29738243e-02,  4.15469073e-02,\n",
              "          2.20126025e-02,  3.65226381e-02, -4.69146743e-02,\n",
              "         -3.70741114e-02],\n",
              "        [ 3.06486227e-02, -1.40705332e-02, -6.28740713e-03,\n",
              "          7.43588060e-03, -2.76459344e-02, -2.98330542e-02,\n",
              "          4.04719152e-02,  2.99831741e-02,  4.84191887e-02,\n",
              "          9.36107710e-03]]], dtype=float32)"
            ]
          },
          "metadata": {},
          "execution_count": 16
        }
      ]
    },
    {
      "cell_type": "code",
      "source": [],
      "metadata": {
        "id": "VZkGTwfMaFQC"
      },
      "execution_count": null,
      "outputs": []
    }
  ]
}